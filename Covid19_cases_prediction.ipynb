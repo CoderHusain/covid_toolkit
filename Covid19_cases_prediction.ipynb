{
  "nbformat": 4,
  "nbformat_minor": 0,
  "metadata": {
    "kernelspec": {
      "display_name": "Python 3",
      "language": "python",
      "name": "python3"
    },
    "language_info": {
      "codemirror_mode": {
        "name": "ipython",
        "version": 3
      },
      "file_extension": ".py",
      "mimetype": "text/x-python",
      "name": "python",
      "nbconvert_exporter": "python",
      "pygments_lexer": "ipython3",
      "version": "3.7.4"
    },
    "colab": {
      "name": "Covid19_cases_prediction.ipynb",
      "provenance": [],
      "collapsed_sections": []
    }
  },
  "cells": [
    {
      "cell_type": "markdown",
      "metadata": {
        "id": "pNx8bKDKH1M2"
      },
      "source": [
        "# Using SARIMAX for Time Forecasting\n",
        "SARIMA is used for non-stationary series, that is, where the data do not fluctuate around the same mean, variance and co-variance. This model can identify trend and seasonality, which makes it so important.\n",
        "\n",
        "AR: Auto regressive model (can be a simple, multiple or non-linear regression)\n",
        "MA: Moving averages model. The moving average models can use weighting factors.\n",
        "\n",
        "--The composition of AR and MA together carry the ARMA model, but this model is used only for stationary series (mean, variance constant over time).\n",
        "\n",
        "--If the series has a tendency, it will be necessary to use the ARIMA model.\n",
        "ARIMA is used for non-stationary series. In this model, a differentiation step I (d) is used to eliminate non-stationarity.\n",
        "\n",
        "--The integrated element “I” for differentiation allows the method to support time series with trend. But still this model does not identify seasonality.\n",
        "\n",
        "--Finally, we arrive at the SARIMA model, which has a seasonal correlation and can identify the seasonality of the time series."
      ]
    },
    {
      "cell_type": "code",
      "metadata": {
        "id": "qc9SpeDaH1M5",
        "colab": {
          "base_uri": "https://localhost:8080/",
          "height": 71
        },
        "outputId": "cb52eb94-6a13-4080-ca35-3ae27790c603"
      },
      "source": [
        "import requests\n",
        "import pandas as pd\n",
        "import numpy as np\n",
        "import matplotlib.pyplot as plt \n",
        "from sklearn.linear_model import LinearRegression \n",
        "from sklearn.preprocessing import PolynomialFeatures \n",
        "import time\n",
        "import seaborn as sn\n",
        "import datetime\n",
        "import statsmodels.api as sm\n",
        "import plotly.graph_objects as go"
      ],
      "execution_count": null,
      "outputs": [
        {
          "output_type": "stream",
          "text": [
            "/usr/local/lib/python3.6/dist-packages/statsmodels/tools/_testing.py:19: FutureWarning: pandas.util.testing is deprecated. Use the functions in the public API at pandas.testing instead.\n",
            "  import pandas.util.testing as tm\n"
          ],
          "name": "stderr"
        }
      ]
    },
    {
      "cell_type": "code",
      "metadata": {
        "id": "T2_Vs4JxH1M_"
      },
      "source": [
        "url = \"https://pomber.github.io/covid19/timeseries.json\"\n",
        "r = requests.get(url)\n",
        "json_response = r.json()\n",
        "indian_data = json_response['India']\n",
        "# print(indian_data)\n",
        "date,confirmed,deaths,recovered=[],[],[],[]\n",
        "\n",
        "for record in indian_data:\n",
        "    date.append(record['date'])\n",
        "    confirmed.append(record['confirmed'])\n",
        "    deaths.append(record['deaths'])\n",
        "    recovered.append(record['recovered'])\n",
        "# print(date,confirmed,deaths,recovered)\n",
        "# data = {'date':date,'confirmed':confirmed,'deaths':deaths,'recovered':recovered}\n",
        "df = pd.DataFrame(np.column_stack([date,confirmed,deaths,recovered]),columns=['date','confirmed','deaths','recovered'])\n",
        "df.to_csv(\"Covid_19_deaths.csv\",index=False)\n",
        "\n",
        "# df = pd.read_csv(\"case_time_series.csv\")\n",
        "# date = df.date.values\n",
        "# confirmed = df.total_confirmed.values\n",
        "# recovered = df.total_recovered.values\n",
        "# deaths = df.total_deceased.values\n",
        "# print(confirmed,recovered,deaths)"
      ],
      "execution_count": null,
      "outputs": []
    },
    {
      "cell_type": "code",
      "metadata": {
        "id": "Hty4y42t7cwi",
        "colab": {
          "base_uri": "https://localhost:8080/",
          "height": 517
        },
        "outputId": "0122d4c9-12ee-431e-f82b-0d10bd975b82"
      },
      "source": [
        "import plotly.express as px\n",
        "fig = go.Figure()\n",
        "\n",
        "fig.add_trace(go.Scatter(x=date, y=confirmed,name=\"Confirmed\"))\n",
        "fig.add_trace(go.Scatter(x=date, y=recovered,name=\"Recovered\"))\n",
        "fig.add_trace(go.Scatter(x=date, y=deaths,name=\"Dead\"))\n",
        "\n",
        "fig.update_layout(yaxis=dict(title='Values'),width=1000,height=500,\n",
        "                  title='Analysis of Death/Cured/Confirmed in India with time',\n",
        "                  xaxis=dict(title='Time in Date'))"
      ],
      "execution_count": null,
      "outputs": [
        {
          "output_type": "display_data",
          "data": {
            "text/html": [
              "<html>\n",
              "<head><meta charset=\"utf-8\" /></head>\n",
              "<body>\n",
              "    <div>\n",
              "            <script src=\"https://cdnjs.cloudflare.com/ajax/libs/mathjax/2.7.5/MathJax.js?config=TeX-AMS-MML_SVG\"></script><script type=\"text/javascript\">if (window.MathJax) {MathJax.Hub.Config({SVG: {font: \"STIX-Web\"}});}</script>\n",
              "                <script type=\"text/javascript\">window.PlotlyConfig = {MathJaxConfig: 'local'};</script>\n",
              "        <script src=\"https://cdn.plot.ly/plotly-latest.min.js\"></script>    \n",
              "            <div id=\"b79fd341-9d6f-4a45-b4ec-7e591d0842bb\" class=\"plotly-graph-div\" style=\"height:500px; width:1000px;\"></div>\n",
              "            <script type=\"text/javascript\">\n",
              "                \n",
              "                    window.PLOTLYENV=window.PLOTLYENV || {};\n",
              "                    \n",
              "                if (document.getElementById(\"b79fd341-9d6f-4a45-b4ec-7e591d0842bb\")) {\n",
              "                    Plotly.newPlot(\n",
              "                        'b79fd341-9d6f-4a45-b4ec-7e591d0842bb',\n",
              "                        [{\"name\": \"Confirmed\", \"type\": \"scatter\", \"x\": [\"2020-1-22\", \"2020-1-23\", \"2020-1-24\", \"2020-1-25\", \"2020-1-26\", \"2020-1-27\", \"2020-1-28\", \"2020-1-29\", \"2020-1-30\", \"2020-1-31\", \"2020-2-1\", \"2020-2-2\", \"2020-2-3\", \"2020-2-4\", \"2020-2-5\", \"2020-2-6\", \"2020-2-7\", \"2020-2-8\", \"2020-2-9\", \"2020-2-10\", \"2020-2-11\", \"2020-2-12\", \"2020-2-13\", \"2020-2-14\", \"2020-2-15\", \"2020-2-16\", \"2020-2-17\", \"2020-2-18\", \"2020-2-19\", \"2020-2-20\", \"2020-2-21\", \"2020-2-22\", \"2020-2-23\", \"2020-2-24\", \"2020-2-25\", \"2020-2-26\", \"2020-2-27\", \"2020-2-28\", \"2020-2-29\", \"2020-3-1\", \"2020-3-2\", \"2020-3-3\", \"2020-3-4\", \"2020-3-5\", \"2020-3-6\", \"2020-3-7\", \"2020-3-8\", \"2020-3-9\", \"2020-3-10\", \"2020-3-11\", \"2020-3-12\", \"2020-3-13\", \"2020-3-14\", \"2020-3-15\", \"2020-3-16\", \"2020-3-17\", \"2020-3-18\", \"2020-3-19\", \"2020-3-20\", \"2020-3-21\", \"2020-3-22\", \"2020-3-23\", \"2020-3-24\", \"2020-3-25\", \"2020-3-26\", \"2020-3-27\", \"2020-3-28\", \"2020-3-29\", \"2020-3-30\", \"2020-3-31\", \"2020-4-1\", \"2020-4-2\", \"2020-4-3\", \"2020-4-4\", \"2020-4-5\", \"2020-4-6\", \"2020-4-7\", \"2020-4-8\", \"2020-4-9\", \"2020-4-10\", \"2020-4-11\", \"2020-4-12\", \"2020-4-13\", \"2020-4-14\", \"2020-4-15\", \"2020-4-16\", \"2020-4-17\", \"2020-4-18\", \"2020-4-19\", \"2020-4-20\", \"2020-4-21\", \"2020-4-22\", \"2020-4-23\", \"2020-4-24\", \"2020-4-25\", \"2020-4-26\", \"2020-4-27\", \"2020-4-28\", \"2020-4-29\", \"2020-4-30\", \"2020-5-1\", \"2020-5-2\", \"2020-5-3\", \"2020-5-4\", \"2020-5-5\", \"2020-5-6\", \"2020-5-7\", \"2020-5-8\", \"2020-5-9\", \"2020-5-10\", \"2020-5-11\", \"2020-5-12\", \"2020-5-13\", \"2020-5-14\", \"2020-5-15\", \"2020-5-16\", \"2020-5-17\", \"2020-5-18\", \"2020-5-19\", \"2020-5-20\", \"2020-5-21\", \"2020-5-22\", \"2020-5-23\", \"2020-5-24\"], \"y\": [0, 0, 0, 0, 0, 0, 0, 0, 1, 1, 1, 2, 3, 3, 3, 3, 3, 3, 3, 3, 3, 3, 3, 3, 3, 3, 3, 3, 3, 3, 3, 3, 3, 3, 3, 3, 3, 3, 3, 3, 5, 5, 28, 30, 31, 34, 39, 43, 56, 62, 73, 82, 102, 113, 119, 142, 156, 194, 244, 330, 396, 499, 536, 657, 727, 887, 987, 1024, 1251, 1397, 1998, 2543, 2567, 3082, 3588, 4778, 5311, 5916, 6725, 7598, 8446, 9205, 10453, 11487, 12322, 13430, 14352, 15722, 17615, 18539, 20080, 21370, 23077, 24530, 26283, 27890, 29451, 31324, 33062, 34863, 37257, 39699, 42505, 46437, 49400, 52987, 56351, 59695, 62808, 67161, 70768, 74292, 78055, 81997, 85784, 90648, 95698, 100328, 106475, 112028, 118226, 124794, 131423, 138536]}, {\"name\": \"Recovered\", \"type\": \"scatter\", \"x\": [\"2020-1-22\", \"2020-1-23\", \"2020-1-24\", \"2020-1-25\", \"2020-1-26\", \"2020-1-27\", \"2020-1-28\", \"2020-1-29\", \"2020-1-30\", \"2020-1-31\", \"2020-2-1\", \"2020-2-2\", \"2020-2-3\", \"2020-2-4\", \"2020-2-5\", \"2020-2-6\", \"2020-2-7\", \"2020-2-8\", \"2020-2-9\", \"2020-2-10\", \"2020-2-11\", \"2020-2-12\", \"2020-2-13\", \"2020-2-14\", \"2020-2-15\", \"2020-2-16\", \"2020-2-17\", \"2020-2-18\", \"2020-2-19\", \"2020-2-20\", \"2020-2-21\", \"2020-2-22\", \"2020-2-23\", \"2020-2-24\", \"2020-2-25\", \"2020-2-26\", \"2020-2-27\", \"2020-2-28\", \"2020-2-29\", \"2020-3-1\", \"2020-3-2\", \"2020-3-3\", \"2020-3-4\", \"2020-3-5\", \"2020-3-6\", \"2020-3-7\", \"2020-3-8\", \"2020-3-9\", \"2020-3-10\", \"2020-3-11\", \"2020-3-12\", \"2020-3-13\", \"2020-3-14\", \"2020-3-15\", \"2020-3-16\", \"2020-3-17\", \"2020-3-18\", \"2020-3-19\", \"2020-3-20\", \"2020-3-21\", \"2020-3-22\", \"2020-3-23\", \"2020-3-24\", \"2020-3-25\", \"2020-3-26\", \"2020-3-27\", \"2020-3-28\", \"2020-3-29\", \"2020-3-30\", \"2020-3-31\", \"2020-4-1\", \"2020-4-2\", \"2020-4-3\", \"2020-4-4\", \"2020-4-5\", \"2020-4-6\", \"2020-4-7\", \"2020-4-8\", \"2020-4-9\", \"2020-4-10\", \"2020-4-11\", \"2020-4-12\", \"2020-4-13\", \"2020-4-14\", \"2020-4-15\", \"2020-4-16\", \"2020-4-17\", \"2020-4-18\", \"2020-4-19\", \"2020-4-20\", \"2020-4-21\", \"2020-4-22\", \"2020-4-23\", \"2020-4-24\", \"2020-4-25\", \"2020-4-26\", \"2020-4-27\", \"2020-4-28\", \"2020-4-29\", \"2020-4-30\", \"2020-5-1\", \"2020-5-2\", \"2020-5-3\", \"2020-5-4\", \"2020-5-5\", \"2020-5-6\", \"2020-5-7\", \"2020-5-8\", \"2020-5-9\", \"2020-5-10\", \"2020-5-11\", \"2020-5-12\", \"2020-5-13\", \"2020-5-14\", \"2020-5-15\", \"2020-5-16\", \"2020-5-17\", \"2020-5-18\", \"2020-5-19\", \"2020-5-20\", \"2020-5-21\", \"2020-5-22\", \"2020-5-23\", \"2020-5-24\"], \"y\": [0, 0, 0, 0, 0, 0, 0, 0, 0, 0, 0, 0, 0, 0, 0, 0, 0, 0, 0, 0, 0, 0, 0, 0, 0, 3, 3, 3, 3, 3, 3, 3, 3, 3, 3, 3, 3, 3, 3, 3, 3, 3, 3, 3, 3, 3, 3, 3, 4, 4, 4, 4, 4, 13, 13, 14, 14, 15, 20, 23, 27, 27, 40, 43, 45, 73, 84, 95, 102, 123, 148, 191, 192, 229, 229, 375, 421, 506, 620, 774, 969, 1080, 1181, 1359, 1432, 1768, 2041, 2463, 2854, 3273, 3975, 4370, 5012, 5498, 5939, 6523, 7137, 7747, 8437, 9068, 10007, 10819, 11775, 12847, 14142, 15331, 16776, 17887, 19301, 20969, 22549, 24420, 26400, 27969, 30258, 34224, 36795, 39233, 42309, 45422, 48553, 51824, 54385, 57692]}, {\"name\": \"Dead\", \"type\": \"scatter\", \"x\": [\"2020-1-22\", \"2020-1-23\", \"2020-1-24\", \"2020-1-25\", \"2020-1-26\", \"2020-1-27\", \"2020-1-28\", \"2020-1-29\", \"2020-1-30\", \"2020-1-31\", \"2020-2-1\", \"2020-2-2\", \"2020-2-3\", \"2020-2-4\", \"2020-2-5\", \"2020-2-6\", \"2020-2-7\", \"2020-2-8\", \"2020-2-9\", \"2020-2-10\", \"2020-2-11\", \"2020-2-12\", \"2020-2-13\", \"2020-2-14\", \"2020-2-15\", \"2020-2-16\", \"2020-2-17\", \"2020-2-18\", \"2020-2-19\", \"2020-2-20\", \"2020-2-21\", \"2020-2-22\", \"2020-2-23\", \"2020-2-24\", \"2020-2-25\", \"2020-2-26\", \"2020-2-27\", \"2020-2-28\", \"2020-2-29\", \"2020-3-1\", \"2020-3-2\", \"2020-3-3\", \"2020-3-4\", \"2020-3-5\", \"2020-3-6\", \"2020-3-7\", \"2020-3-8\", \"2020-3-9\", \"2020-3-10\", \"2020-3-11\", \"2020-3-12\", \"2020-3-13\", \"2020-3-14\", \"2020-3-15\", \"2020-3-16\", \"2020-3-17\", \"2020-3-18\", \"2020-3-19\", \"2020-3-20\", \"2020-3-21\", \"2020-3-22\", \"2020-3-23\", \"2020-3-24\", \"2020-3-25\", \"2020-3-26\", \"2020-3-27\", \"2020-3-28\", \"2020-3-29\", \"2020-3-30\", \"2020-3-31\", \"2020-4-1\", \"2020-4-2\", \"2020-4-3\", \"2020-4-4\", \"2020-4-5\", \"2020-4-6\", \"2020-4-7\", \"2020-4-8\", \"2020-4-9\", \"2020-4-10\", \"2020-4-11\", \"2020-4-12\", \"2020-4-13\", \"2020-4-14\", \"2020-4-15\", \"2020-4-16\", \"2020-4-17\", \"2020-4-18\", \"2020-4-19\", \"2020-4-20\", \"2020-4-21\", \"2020-4-22\", \"2020-4-23\", \"2020-4-24\", \"2020-4-25\", \"2020-4-26\", \"2020-4-27\", \"2020-4-28\", \"2020-4-29\", \"2020-4-30\", \"2020-5-1\", \"2020-5-2\", \"2020-5-3\", \"2020-5-4\", \"2020-5-5\", \"2020-5-6\", \"2020-5-7\", \"2020-5-8\", \"2020-5-9\", \"2020-5-10\", \"2020-5-11\", \"2020-5-12\", \"2020-5-13\", \"2020-5-14\", \"2020-5-15\", \"2020-5-16\", \"2020-5-17\", \"2020-5-18\", \"2020-5-19\", \"2020-5-20\", \"2020-5-21\", \"2020-5-22\", \"2020-5-23\", \"2020-5-24\"], \"y\": [0, 0, 0, 0, 0, 0, 0, 0, 0, 0, 0, 0, 0, 0, 0, 0, 0, 0, 0, 0, 0, 0, 0, 0, 0, 0, 0, 0, 0, 0, 0, 0, 0, 0, 0, 0, 0, 0, 0, 0, 0, 0, 0, 0, 0, 0, 0, 0, 0, 1, 1, 2, 2, 2, 2, 3, 3, 4, 5, 4, 7, 10, 10, 12, 20, 20, 24, 27, 32, 35, 58, 72, 72, 86, 99, 136, 150, 178, 226, 246, 288, 331, 358, 393, 405, 448, 486, 521, 559, 592, 645, 681, 721, 780, 825, 881, 939, 1008, 1079, 1154, 1223, 1323, 1391, 1566, 1693, 1785, 1889, 1985, 2101, 2212, 2294, 2415, 2551, 2649, 2753, 2871, 3025, 3156, 3302, 3434, 3584, 3726, 3868, 4024]}],\n",
              "                        {\"height\": 500, \"template\": {\"data\": {\"bar\": [{\"error_x\": {\"color\": \"#2a3f5f\"}, \"error_y\": {\"color\": \"#2a3f5f\"}, \"marker\": {\"line\": {\"color\": \"#E5ECF6\", \"width\": 0.5}}, \"type\": \"bar\"}], \"barpolar\": [{\"marker\": {\"line\": {\"color\": \"#E5ECF6\", \"width\": 0.5}}, \"type\": \"barpolar\"}], \"carpet\": [{\"aaxis\": {\"endlinecolor\": \"#2a3f5f\", \"gridcolor\": \"white\", \"linecolor\": \"white\", \"minorgridcolor\": \"white\", \"startlinecolor\": \"#2a3f5f\"}, \"baxis\": {\"endlinecolor\": \"#2a3f5f\", \"gridcolor\": \"white\", \"linecolor\": \"white\", \"minorgridcolor\": \"white\", \"startlinecolor\": \"#2a3f5f\"}, \"type\": \"carpet\"}], \"choropleth\": [{\"colorbar\": {\"outlinewidth\": 0, \"ticks\": \"\"}, \"type\": \"choropleth\"}], \"contour\": [{\"colorbar\": {\"outlinewidth\": 0, \"ticks\": \"\"}, \"colorscale\": [[0.0, \"#0d0887\"], [0.1111111111111111, \"#46039f\"], [0.2222222222222222, \"#7201a8\"], [0.3333333333333333, \"#9c179e\"], [0.4444444444444444, \"#bd3786\"], [0.5555555555555556, \"#d8576b\"], [0.6666666666666666, \"#ed7953\"], [0.7777777777777778, \"#fb9f3a\"], [0.8888888888888888, \"#fdca26\"], [1.0, \"#f0f921\"]], \"type\": \"contour\"}], \"contourcarpet\": [{\"colorbar\": {\"outlinewidth\": 0, \"ticks\": \"\"}, \"type\": \"contourcarpet\"}], \"heatmap\": [{\"colorbar\": {\"outlinewidth\": 0, \"ticks\": \"\"}, \"colorscale\": [[0.0, \"#0d0887\"], [0.1111111111111111, \"#46039f\"], [0.2222222222222222, \"#7201a8\"], [0.3333333333333333, \"#9c179e\"], [0.4444444444444444, \"#bd3786\"], [0.5555555555555556, \"#d8576b\"], [0.6666666666666666, \"#ed7953\"], [0.7777777777777778, \"#fb9f3a\"], [0.8888888888888888, \"#fdca26\"], [1.0, \"#f0f921\"]], \"type\": \"heatmap\"}], \"heatmapgl\": [{\"colorbar\": {\"outlinewidth\": 0, \"ticks\": \"\"}, \"colorscale\": [[0.0, \"#0d0887\"], [0.1111111111111111, \"#46039f\"], [0.2222222222222222, \"#7201a8\"], [0.3333333333333333, \"#9c179e\"], [0.4444444444444444, \"#bd3786\"], [0.5555555555555556, \"#d8576b\"], [0.6666666666666666, \"#ed7953\"], [0.7777777777777778, \"#fb9f3a\"], [0.8888888888888888, \"#fdca26\"], [1.0, \"#f0f921\"]], \"type\": \"heatmapgl\"}], \"histogram\": [{\"marker\": {\"colorbar\": {\"outlinewidth\": 0, \"ticks\": \"\"}}, \"type\": \"histogram\"}], \"histogram2d\": [{\"colorbar\": {\"outlinewidth\": 0, \"ticks\": \"\"}, \"colorscale\": [[0.0, \"#0d0887\"], [0.1111111111111111, \"#46039f\"], [0.2222222222222222, \"#7201a8\"], [0.3333333333333333, \"#9c179e\"], [0.4444444444444444, \"#bd3786\"], [0.5555555555555556, \"#d8576b\"], [0.6666666666666666, \"#ed7953\"], [0.7777777777777778, \"#fb9f3a\"], [0.8888888888888888, \"#fdca26\"], [1.0, \"#f0f921\"]], \"type\": \"histogram2d\"}], \"histogram2dcontour\": [{\"colorbar\": {\"outlinewidth\": 0, \"ticks\": \"\"}, \"colorscale\": [[0.0, \"#0d0887\"], [0.1111111111111111, \"#46039f\"], [0.2222222222222222, \"#7201a8\"], [0.3333333333333333, \"#9c179e\"], [0.4444444444444444, \"#bd3786\"], [0.5555555555555556, \"#d8576b\"], [0.6666666666666666, \"#ed7953\"], [0.7777777777777778, \"#fb9f3a\"], [0.8888888888888888, \"#fdca26\"], [1.0, \"#f0f921\"]], \"type\": \"histogram2dcontour\"}], \"mesh3d\": [{\"colorbar\": {\"outlinewidth\": 0, \"ticks\": \"\"}, \"type\": \"mesh3d\"}], \"parcoords\": [{\"line\": {\"colorbar\": {\"outlinewidth\": 0, \"ticks\": \"\"}}, \"type\": \"parcoords\"}], \"pie\": [{\"automargin\": true, \"type\": \"pie\"}], \"scatter\": [{\"marker\": {\"colorbar\": {\"outlinewidth\": 0, \"ticks\": \"\"}}, \"type\": \"scatter\"}], \"scatter3d\": [{\"line\": {\"colorbar\": {\"outlinewidth\": 0, \"ticks\": \"\"}}, \"marker\": {\"colorbar\": {\"outlinewidth\": 0, \"ticks\": \"\"}}, \"type\": \"scatter3d\"}], \"scattercarpet\": [{\"marker\": {\"colorbar\": {\"outlinewidth\": 0, \"ticks\": \"\"}}, \"type\": \"scattercarpet\"}], \"scattergeo\": [{\"marker\": {\"colorbar\": {\"outlinewidth\": 0, \"ticks\": \"\"}}, \"type\": \"scattergeo\"}], \"scattergl\": [{\"marker\": {\"colorbar\": {\"outlinewidth\": 0, \"ticks\": \"\"}}, \"type\": \"scattergl\"}], \"scattermapbox\": [{\"marker\": {\"colorbar\": {\"outlinewidth\": 0, \"ticks\": \"\"}}, \"type\": \"scattermapbox\"}], \"scatterpolar\": [{\"marker\": {\"colorbar\": {\"outlinewidth\": 0, \"ticks\": \"\"}}, \"type\": \"scatterpolar\"}], \"scatterpolargl\": [{\"marker\": {\"colorbar\": {\"outlinewidth\": 0, \"ticks\": \"\"}}, \"type\": \"scatterpolargl\"}], \"scatterternary\": [{\"marker\": {\"colorbar\": {\"outlinewidth\": 0, \"ticks\": \"\"}}, \"type\": \"scatterternary\"}], \"surface\": [{\"colorbar\": {\"outlinewidth\": 0, \"ticks\": \"\"}, \"colorscale\": [[0.0, \"#0d0887\"], [0.1111111111111111, \"#46039f\"], [0.2222222222222222, \"#7201a8\"], [0.3333333333333333, \"#9c179e\"], [0.4444444444444444, \"#bd3786\"], [0.5555555555555556, \"#d8576b\"], [0.6666666666666666, \"#ed7953\"], [0.7777777777777778, \"#fb9f3a\"], [0.8888888888888888, \"#fdca26\"], [1.0, \"#f0f921\"]], \"type\": \"surface\"}], \"table\": [{\"cells\": {\"fill\": {\"color\": \"#EBF0F8\"}, \"line\": {\"color\": \"white\"}}, \"header\": {\"fill\": {\"color\": \"#C8D4E3\"}, \"line\": {\"color\": \"white\"}}, \"type\": \"table\"}]}, \"layout\": {\"annotationdefaults\": {\"arrowcolor\": \"#2a3f5f\", \"arrowhead\": 0, \"arrowwidth\": 1}, \"coloraxis\": {\"colorbar\": {\"outlinewidth\": 0, \"ticks\": \"\"}}, \"colorscale\": {\"diverging\": [[0, \"#8e0152\"], [0.1, \"#c51b7d\"], [0.2, \"#de77ae\"], [0.3, \"#f1b6da\"], [0.4, \"#fde0ef\"], [0.5, \"#f7f7f7\"], [0.6, \"#e6f5d0\"], [0.7, \"#b8e186\"], [0.8, \"#7fbc41\"], [0.9, \"#4d9221\"], [1, \"#276419\"]], \"sequential\": [[0.0, \"#0d0887\"], [0.1111111111111111, \"#46039f\"], [0.2222222222222222, \"#7201a8\"], [0.3333333333333333, \"#9c179e\"], [0.4444444444444444, \"#bd3786\"], [0.5555555555555556, \"#d8576b\"], [0.6666666666666666, \"#ed7953\"], [0.7777777777777778, \"#fb9f3a\"], [0.8888888888888888, \"#fdca26\"], [1.0, \"#f0f921\"]], \"sequentialminus\": [[0.0, \"#0d0887\"], [0.1111111111111111, \"#46039f\"], [0.2222222222222222, \"#7201a8\"], [0.3333333333333333, \"#9c179e\"], [0.4444444444444444, \"#bd3786\"], [0.5555555555555556, \"#d8576b\"], [0.6666666666666666, \"#ed7953\"], [0.7777777777777778, \"#fb9f3a\"], [0.8888888888888888, \"#fdca26\"], [1.0, \"#f0f921\"]]}, \"colorway\": [\"#636efa\", \"#EF553B\", \"#00cc96\", \"#ab63fa\", \"#FFA15A\", \"#19d3f3\", \"#FF6692\", \"#B6E880\", \"#FF97FF\", \"#FECB52\"], \"font\": {\"color\": \"#2a3f5f\"}, \"geo\": {\"bgcolor\": \"white\", \"lakecolor\": \"white\", \"landcolor\": \"#E5ECF6\", \"showlakes\": true, \"showland\": true, \"subunitcolor\": \"white\"}, \"hoverlabel\": {\"align\": \"left\"}, \"hovermode\": \"closest\", \"mapbox\": {\"style\": \"light\"}, \"paper_bgcolor\": \"white\", \"plot_bgcolor\": \"#E5ECF6\", \"polar\": {\"angularaxis\": {\"gridcolor\": \"white\", \"linecolor\": \"white\", \"ticks\": \"\"}, \"bgcolor\": \"#E5ECF6\", \"radialaxis\": {\"gridcolor\": \"white\", \"linecolor\": \"white\", \"ticks\": \"\"}}, \"scene\": {\"xaxis\": {\"backgroundcolor\": \"#E5ECF6\", \"gridcolor\": \"white\", \"gridwidth\": 2, \"linecolor\": \"white\", \"showbackground\": true, \"ticks\": \"\", \"zerolinecolor\": \"white\"}, \"yaxis\": {\"backgroundcolor\": \"#E5ECF6\", \"gridcolor\": \"white\", \"gridwidth\": 2, \"linecolor\": \"white\", \"showbackground\": true, \"ticks\": \"\", \"zerolinecolor\": \"white\"}, \"zaxis\": {\"backgroundcolor\": \"#E5ECF6\", \"gridcolor\": \"white\", \"gridwidth\": 2, \"linecolor\": \"white\", \"showbackground\": true, \"ticks\": \"\", \"zerolinecolor\": \"white\"}}, \"shapedefaults\": {\"line\": {\"color\": \"#2a3f5f\"}}, \"ternary\": {\"aaxis\": {\"gridcolor\": \"white\", \"linecolor\": \"white\", \"ticks\": \"\"}, \"baxis\": {\"gridcolor\": \"white\", \"linecolor\": \"white\", \"ticks\": \"\"}, \"bgcolor\": \"#E5ECF6\", \"caxis\": {\"gridcolor\": \"white\", \"linecolor\": \"white\", \"ticks\": \"\"}}, \"title\": {\"x\": 0.05}, \"xaxis\": {\"automargin\": true, \"gridcolor\": \"white\", \"linecolor\": \"white\", \"ticks\": \"\", \"title\": {\"standoff\": 15}, \"zerolinecolor\": \"white\", \"zerolinewidth\": 2}, \"yaxis\": {\"automargin\": true, \"gridcolor\": \"white\", \"linecolor\": \"white\", \"ticks\": \"\", \"title\": {\"standoff\": 15}, \"zerolinecolor\": \"white\", \"zerolinewidth\": 2}}}, \"title\": {\"text\": \"Analysis of Death/Cured/Confirmed in India with time\"}, \"width\": 1000, \"xaxis\": {\"title\": {\"text\": \"Time in Date\"}}, \"yaxis\": {\"title\": {\"text\": \"Values\"}}},\n",
              "                        {\"responsive\": true}\n",
              "                    ).then(function(){\n",
              "                            \n",
              "var gd = document.getElementById('b79fd341-9d6f-4a45-b4ec-7e591d0842bb');\n",
              "var x = new MutationObserver(function (mutations, observer) {{\n",
              "        var display = window.getComputedStyle(gd).display;\n",
              "        if (!display || display === 'none') {{\n",
              "            console.log([gd, 'removed!']);\n",
              "            Plotly.purge(gd);\n",
              "            observer.disconnect();\n",
              "        }}\n",
              "}});\n",
              "\n",
              "// Listen for the removal of the full notebook cells\n",
              "var notebookContainer = gd.closest('#notebook-container');\n",
              "if (notebookContainer) {{\n",
              "    x.observe(notebookContainer, {childList: true});\n",
              "}}\n",
              "\n",
              "// Listen for the clearing of the current output cell\n",
              "var outputEl = gd.closest('.output');\n",
              "if (outputEl) {{\n",
              "    x.observe(outputEl, {childList: true});\n",
              "}}\n",
              "\n",
              "                        })\n",
              "                };\n",
              "                \n",
              "            </script>\n",
              "        </div>\n",
              "</body>\n",
              "</html>"
            ]
          },
          "metadata": {
            "tags": []
          }
        }
      ]
    },
    {
      "cell_type": "code",
      "metadata": {
        "id": "GXH7Qy7uiESn",
        "colab": {
          "base_uri": "https://localhost:8080/",
          "height": 419
        },
        "outputId": "047b4820-75ee-44eb-ac18-d7a1aec1f291"
      },
      "source": [
        "df"
      ],
      "execution_count": null,
      "outputs": [
        {
          "output_type": "execute_result",
          "data": {
            "text/html": [
              "<div>\n",
              "<style scoped>\n",
              "    .dataframe tbody tr th:only-of-type {\n",
              "        vertical-align: middle;\n",
              "    }\n",
              "\n",
              "    .dataframe tbody tr th {\n",
              "        vertical-align: top;\n",
              "    }\n",
              "\n",
              "    .dataframe thead th {\n",
              "        text-align: right;\n",
              "    }\n",
              "</style>\n",
              "<table border=\"1\" class=\"dataframe\">\n",
              "  <thead>\n",
              "    <tr style=\"text-align: right;\">\n",
              "      <th></th>\n",
              "      <th>date</th>\n",
              "      <th>confirmed</th>\n",
              "      <th>deaths</th>\n",
              "      <th>recovered</th>\n",
              "    </tr>\n",
              "  </thead>\n",
              "  <tbody>\n",
              "    <tr>\n",
              "      <th>0</th>\n",
              "      <td>2020-1-22</td>\n",
              "      <td>0</td>\n",
              "      <td>0</td>\n",
              "      <td>0</td>\n",
              "    </tr>\n",
              "    <tr>\n",
              "      <th>1</th>\n",
              "      <td>2020-1-23</td>\n",
              "      <td>0</td>\n",
              "      <td>0</td>\n",
              "      <td>0</td>\n",
              "    </tr>\n",
              "    <tr>\n",
              "      <th>2</th>\n",
              "      <td>2020-1-24</td>\n",
              "      <td>0</td>\n",
              "      <td>0</td>\n",
              "      <td>0</td>\n",
              "    </tr>\n",
              "    <tr>\n",
              "      <th>3</th>\n",
              "      <td>2020-1-25</td>\n",
              "      <td>0</td>\n",
              "      <td>0</td>\n",
              "      <td>0</td>\n",
              "    </tr>\n",
              "    <tr>\n",
              "      <th>4</th>\n",
              "      <td>2020-1-26</td>\n",
              "      <td>0</td>\n",
              "      <td>0</td>\n",
              "      <td>0</td>\n",
              "    </tr>\n",
              "    <tr>\n",
              "      <th>...</th>\n",
              "      <td>...</td>\n",
              "      <td>...</td>\n",
              "      <td>...</td>\n",
              "      <td>...</td>\n",
              "    </tr>\n",
              "    <tr>\n",
              "      <th>119</th>\n",
              "      <td>2020-5-20</td>\n",
              "      <td>112028</td>\n",
              "      <td>3434</td>\n",
              "      <td>45422</td>\n",
              "    </tr>\n",
              "    <tr>\n",
              "      <th>120</th>\n",
              "      <td>2020-5-21</td>\n",
              "      <td>118226</td>\n",
              "      <td>3584</td>\n",
              "      <td>48553</td>\n",
              "    </tr>\n",
              "    <tr>\n",
              "      <th>121</th>\n",
              "      <td>2020-5-22</td>\n",
              "      <td>124794</td>\n",
              "      <td>3726</td>\n",
              "      <td>51824</td>\n",
              "    </tr>\n",
              "    <tr>\n",
              "      <th>122</th>\n",
              "      <td>2020-5-23</td>\n",
              "      <td>131423</td>\n",
              "      <td>3868</td>\n",
              "      <td>54385</td>\n",
              "    </tr>\n",
              "    <tr>\n",
              "      <th>123</th>\n",
              "      <td>2020-5-24</td>\n",
              "      <td>138536</td>\n",
              "      <td>4024</td>\n",
              "      <td>57692</td>\n",
              "    </tr>\n",
              "  </tbody>\n",
              "</table>\n",
              "<p>124 rows × 4 columns</p>\n",
              "</div>"
            ],
            "text/plain": [
              "          date confirmed deaths recovered\n",
              "0    2020-1-22         0      0         0\n",
              "1    2020-1-23         0      0         0\n",
              "2    2020-1-24         0      0         0\n",
              "3    2020-1-25         0      0         0\n",
              "4    2020-1-26         0      0         0\n",
              "..         ...       ...    ...       ...\n",
              "119  2020-5-20    112028   3434     45422\n",
              "120  2020-5-21    118226   3584     48553\n",
              "121  2020-5-22    124794   3726     51824\n",
              "122  2020-5-23    131423   3868     54385\n",
              "123  2020-5-24    138536   4024     57692\n",
              "\n",
              "[124 rows x 4 columns]"
            ]
          },
          "metadata": {
            "tags": []
          },
          "execution_count": 10
        }
      ]
    },
    {
      "cell_type": "code",
      "metadata": {
        "id": "1GBJsEgIH1NH",
        "colab": {
          "base_uri": "https://localhost:8080/",
          "height": 255
        },
        "outputId": "9197785f-c45e-4b01-c3fc-b88c5aa1f349"
      },
      "source": [
        "X = df.iloc[:, 0:1].values\n",
        "dates = np.reshape(X,(1,-1))\n",
        "dates = dates[0]\n",
        "y = df.iloc[:, 3].values\n",
        "# y = [int(i) for i in y]\n",
        "y = y.astype(int)\n",
        "y"
      ],
      "execution_count": null,
      "outputs": [
        {
          "output_type": "execute_result",
          "data": {
            "text/plain": [
              "array([    0,     0,     0,     0,     0,     0,     0,     0,     0,\n",
              "           0,     0,     0,     0,     0,     0,     0,     0,     0,\n",
              "           0,     0,     0,     0,     0,     0,     0,     3,     3,\n",
              "           3,     3,     3,     3,     3,     3,     3,     3,     3,\n",
              "           3,     3,     3,     3,     3,     3,     3,     3,     3,\n",
              "           3,     3,     3,     4,     4,     4,     4,     4,    13,\n",
              "          13,    14,    14,    15,    20,    23,    27,    27,    40,\n",
              "          43,    45,    73,    84,    95,   102,   123,   148,   191,\n",
              "         192,   229,   229,   375,   421,   506,   620,   774,   969,\n",
              "        1080,  1181,  1359,  1432,  1768,  2041,  2463,  2854,  3273,\n",
              "        3975,  4370,  5012,  5498,  5939,  6523,  7137,  7747,  8437,\n",
              "        9068, 10007, 10819, 11775, 12847, 14142, 15331, 16776, 17887,\n",
              "       19301, 20969, 22549, 24420, 26400, 27969, 30258, 34224, 36795,\n",
              "       39233, 42309, 45422, 48553, 51824, 54385, 57692])"
            ]
          },
          "metadata": {
            "tags": []
          },
          "execution_count": 28
        }
      ]
    },
    {
      "cell_type": "code",
      "metadata": {
        "id": "s9SrmaZNH1NM"
      },
      "source": [
        "X=np.array(range(0,len(X)))\n"
      ],
      "execution_count": null,
      "outputs": []
    },
    {
      "cell_type": "code",
      "metadata": {
        "id": "FgfTZC0kH1NS",
        "colab": {
          "base_uri": "https://localhost:8080/",
          "height": 34
        },
        "outputId": "cbd9e847-f91d-472b-f0de-3cc4198fc3de"
      },
      "source": [
        "model = sm.tsa.statespace.SARIMAX(y,\n",
        "                                  order = [14,1,0],\n",
        "                                  enforce_stationarity=False,\n",
        "                                  enforce_invertibility=False)\n",
        "results = model.fit()\n",
        "print(results.aic)\n"
      ],
      "execution_count": null,
      "outputs": [
        {
          "output_type": "stream",
          "text": [
            "1448.8808980946374\n"
          ],
          "name": "stdout"
        }
      ]
    },
    {
      "cell_type": "code",
      "metadata": {
        "id": "KYH842LvH1NV",
        "colab": {
          "base_uri": "https://localhost:8080/",
          "height": 817
        },
        "outputId": "3a86c6d7-cdd0-451d-84a8-0da742c048bf"
      },
      "source": [
        "yhat = results.get_prediction()\n",
        "predict_ci = yhat.conf_int()\n",
        "preds=predict_ci[:,1]\n",
        "forecast= results.forecast(steps=20)\n",
        "X_preds = X\n",
        "y_preds = preds\n",
        "for i in range(len(forecast)):\n",
        "    y_preds = np.append(y_preds,forecast[i])\n",
        "    X_preds = np.append(X_preds,len(X)+i)\n",
        "\n",
        "y_preds = [int(i) for i in y_preds]\n",
        "fig = go.Figure()\n",
        "fig.add_trace(go.Scatter(x=X_preds[40:], y=y_preds[40:],mode='lines+markers',name=\"Predictions\"))\n",
        "fig.add_trace(go.Scatter(x=X[40:], y=y[40:],mode='lines+markers',name=\"Actual\"))\n",
        "\n",
        "fig.update_layout(yaxis=dict(title='Values'),width=1200,height=800,\n",
        "                  title='SARIMAX Confirmed Cases Prediction Vs Actual Values',\n",
        "                  xaxis=dict(title='Time in Date'))\n"
      ],
      "execution_count": null,
      "outputs": [
        {
          "output_type": "display_data",
          "data": {
            "text/html": [
              "<html>\n",
              "<head><meta charset=\"utf-8\" /></head>\n",
              "<body>\n",
              "    <div>\n",
              "            <script src=\"https://cdnjs.cloudflare.com/ajax/libs/mathjax/2.7.5/MathJax.js?config=TeX-AMS-MML_SVG\"></script><script type=\"text/javascript\">if (window.MathJax) {MathJax.Hub.Config({SVG: {font: \"STIX-Web\"}});}</script>\n",
              "                <script type=\"text/javascript\">window.PlotlyConfig = {MathJaxConfig: 'local'};</script>\n",
              "        <script src=\"https://cdn.plot.ly/plotly-latest.min.js\"></script>    \n",
              "            <div id=\"244c8633-aa2b-4c1b-98e7-9936a256829b\" class=\"plotly-graph-div\" style=\"height:800px; width:1200px;\"></div>\n",
              "            <script type=\"text/javascript\">\n",
              "                \n",
              "                    window.PLOTLYENV=window.PLOTLYENV || {};\n",
              "                    \n",
              "                if (document.getElementById(\"244c8633-aa2b-4c1b-98e7-9936a256829b\")) {\n",
              "                    Plotly.newPlot(\n",
              "                        '244c8633-aa2b-4c1b-98e7-9936a256829b',\n",
              "                        [{\"mode\": \"lines+markers\", \"name\": \"Predictions\", \"type\": \"scatter\", \"x\": [40, 41, 42, 43, 44, 45, 46, 47, 48, 49, 50, 51, 52, 53, 54, 55, 56, 57, 58, 59, 60, 61, 62, 63, 64, 65, 66, 67, 68, 69, 70, 71, 72, 73, 74, 75, 76, 77, 78, 79, 80, 81, 82, 83, 84, 85, 86, 87, 88, 89, 90, 91, 92, 93, 94, 95, 96, 97, 98, 99, 100, 101, 102, 103, 104, 105, 106, 107, 108, 109, 110, 111, 112, 113, 114, 115, 116, 117, 118, 119, 120, 121, 122, 123, 124, 125, 126, 127, 128, 129, 130, 131, 132, 133, 134, 135, 136, 137, 138, 139, 140, 141, 142, 143], \"y\": [321, 321, 321, 321, 321, 321, 321, 321, 321, 322, 322, 322, 322, 322, 333, 329, 336, 334, 333, 340, 336, 346, 349, 367, 372, 371, 396, 397, 430, 434, 455, 479, 514, 525, 592, 556, 765, 758, 892, 1018, 1179, 1428, 1480, 1593, 1789, 1783, 2355, 2511, 3068, 3571, 4092, 4921, 4959, 5708, 6137, 6629, 7510, 8027, 8887, 9621, 10263, 11655, 12126, 13106, 14194, 15431, 16803, 18551, 19525, 21135, 22669, 24422, 26720, 28678, 30569, 33476, 37221, 39536, 42837, 45880, 49127, 52362, 54794, 57970, 61784, 66063, 72633, 79488, 84245, 90591, 99233, 106025, 111607, 117054, 122596, 130588, 139918, 149788, 162659, 175904, 189409, 208213, 226202, 237003]}, {\"mode\": \"lines+markers\", \"name\": \"Actual\", \"type\": \"scatter\", \"x\": [40, 41, 42, 43, 44, 45, 46, 47, 48, 49, 50, 51, 52, 53, 54, 55, 56, 57, 58, 59, 60, 61, 62, 63, 64, 65, 66, 67, 68, 69, 70, 71, 72, 73, 74, 75, 76, 77, 78, 79, 80, 81, 82, 83, 84, 85, 86, 87, 88, 89, 90, 91, 92, 93, 94, 95, 96, 97, 98, 99, 100, 101, 102, 103, 104, 105, 106, 107, 108, 109, 110, 111, 112, 113, 114, 115, 116, 117, 118, 119, 120, 121, 122, 123], \"y\": [3, 3, 3, 3, 3, 3, 3, 3, 4, 4, 4, 4, 4, 13, 13, 14, 14, 15, 20, 23, 27, 27, 40, 43, 45, 73, 84, 95, 102, 123, 148, 191, 192, 229, 229, 375, 421, 506, 620, 774, 969, 1080, 1181, 1359, 1432, 1768, 2041, 2463, 2854, 3273, 3975, 4370, 5012, 5498, 5939, 6523, 7137, 7747, 8437, 9068, 10007, 10819, 11775, 12847, 14142, 15331, 16776, 17887, 19301, 20969, 22549, 24420, 26400, 27969, 30258, 34224, 36795, 39233, 42309, 45422, 48553, 51824, 54385, 57692]}],\n",
              "                        {\"height\": 800, \"template\": {\"data\": {\"bar\": [{\"error_x\": {\"color\": \"#2a3f5f\"}, \"error_y\": {\"color\": \"#2a3f5f\"}, \"marker\": {\"line\": {\"color\": \"#E5ECF6\", \"width\": 0.5}}, \"type\": \"bar\"}], \"barpolar\": [{\"marker\": {\"line\": {\"color\": \"#E5ECF6\", \"width\": 0.5}}, \"type\": \"barpolar\"}], \"carpet\": [{\"aaxis\": {\"endlinecolor\": \"#2a3f5f\", \"gridcolor\": \"white\", \"linecolor\": \"white\", \"minorgridcolor\": \"white\", \"startlinecolor\": \"#2a3f5f\"}, \"baxis\": {\"endlinecolor\": \"#2a3f5f\", \"gridcolor\": \"white\", \"linecolor\": \"white\", \"minorgridcolor\": \"white\", \"startlinecolor\": \"#2a3f5f\"}, \"type\": \"carpet\"}], \"choropleth\": [{\"colorbar\": {\"outlinewidth\": 0, \"ticks\": \"\"}, \"type\": \"choropleth\"}], \"contour\": [{\"colorbar\": {\"outlinewidth\": 0, \"ticks\": \"\"}, \"colorscale\": [[0.0, \"#0d0887\"], [0.1111111111111111, \"#46039f\"], [0.2222222222222222, \"#7201a8\"], [0.3333333333333333, \"#9c179e\"], [0.4444444444444444, \"#bd3786\"], [0.5555555555555556, \"#d8576b\"], [0.6666666666666666, \"#ed7953\"], [0.7777777777777778, \"#fb9f3a\"], [0.8888888888888888, \"#fdca26\"], [1.0, \"#f0f921\"]], \"type\": \"contour\"}], \"contourcarpet\": [{\"colorbar\": {\"outlinewidth\": 0, \"ticks\": \"\"}, \"type\": \"contourcarpet\"}], \"heatmap\": [{\"colorbar\": {\"outlinewidth\": 0, \"ticks\": \"\"}, \"colorscale\": [[0.0, \"#0d0887\"], [0.1111111111111111, \"#46039f\"], [0.2222222222222222, \"#7201a8\"], [0.3333333333333333, \"#9c179e\"], [0.4444444444444444, \"#bd3786\"], [0.5555555555555556, \"#d8576b\"], [0.6666666666666666, \"#ed7953\"], [0.7777777777777778, \"#fb9f3a\"], [0.8888888888888888, \"#fdca26\"], [1.0, \"#f0f921\"]], \"type\": \"heatmap\"}], \"heatmapgl\": [{\"colorbar\": {\"outlinewidth\": 0, \"ticks\": \"\"}, \"colorscale\": [[0.0, \"#0d0887\"], [0.1111111111111111, \"#46039f\"], [0.2222222222222222, \"#7201a8\"], [0.3333333333333333, \"#9c179e\"], [0.4444444444444444, \"#bd3786\"], [0.5555555555555556, \"#d8576b\"], [0.6666666666666666, \"#ed7953\"], [0.7777777777777778, \"#fb9f3a\"], [0.8888888888888888, \"#fdca26\"], [1.0, \"#f0f921\"]], \"type\": \"heatmapgl\"}], \"histogram\": [{\"marker\": {\"colorbar\": {\"outlinewidth\": 0, \"ticks\": \"\"}}, \"type\": \"histogram\"}], \"histogram2d\": [{\"colorbar\": {\"outlinewidth\": 0, \"ticks\": \"\"}, \"colorscale\": [[0.0, \"#0d0887\"], [0.1111111111111111, \"#46039f\"], [0.2222222222222222, \"#7201a8\"], [0.3333333333333333, \"#9c179e\"], [0.4444444444444444, \"#bd3786\"], [0.5555555555555556, \"#d8576b\"], [0.6666666666666666, \"#ed7953\"], [0.7777777777777778, \"#fb9f3a\"], [0.8888888888888888, \"#fdca26\"], [1.0, \"#f0f921\"]], \"type\": \"histogram2d\"}], \"histogram2dcontour\": [{\"colorbar\": {\"outlinewidth\": 0, \"ticks\": \"\"}, \"colorscale\": [[0.0, \"#0d0887\"], [0.1111111111111111, \"#46039f\"], [0.2222222222222222, \"#7201a8\"], [0.3333333333333333, \"#9c179e\"], [0.4444444444444444, \"#bd3786\"], [0.5555555555555556, \"#d8576b\"], [0.6666666666666666, \"#ed7953\"], [0.7777777777777778, \"#fb9f3a\"], [0.8888888888888888, \"#fdca26\"], [1.0, \"#f0f921\"]], \"type\": \"histogram2dcontour\"}], \"mesh3d\": [{\"colorbar\": {\"outlinewidth\": 0, \"ticks\": \"\"}, \"type\": \"mesh3d\"}], \"parcoords\": [{\"line\": {\"colorbar\": {\"outlinewidth\": 0, \"ticks\": \"\"}}, \"type\": \"parcoords\"}], \"pie\": [{\"automargin\": true, \"type\": \"pie\"}], \"scatter\": [{\"marker\": {\"colorbar\": {\"outlinewidth\": 0, \"ticks\": \"\"}}, \"type\": \"scatter\"}], \"scatter3d\": [{\"line\": {\"colorbar\": {\"outlinewidth\": 0, \"ticks\": \"\"}}, \"marker\": {\"colorbar\": {\"outlinewidth\": 0, \"ticks\": \"\"}}, \"type\": \"scatter3d\"}], \"scattercarpet\": [{\"marker\": {\"colorbar\": {\"outlinewidth\": 0, \"ticks\": \"\"}}, \"type\": \"scattercarpet\"}], \"scattergeo\": [{\"marker\": {\"colorbar\": {\"outlinewidth\": 0, \"ticks\": \"\"}}, \"type\": \"scattergeo\"}], \"scattergl\": [{\"marker\": {\"colorbar\": {\"outlinewidth\": 0, \"ticks\": \"\"}}, \"type\": \"scattergl\"}], \"scattermapbox\": [{\"marker\": {\"colorbar\": {\"outlinewidth\": 0, \"ticks\": \"\"}}, \"type\": \"scattermapbox\"}], \"scatterpolar\": [{\"marker\": {\"colorbar\": {\"outlinewidth\": 0, \"ticks\": \"\"}}, \"type\": \"scatterpolar\"}], \"scatterpolargl\": [{\"marker\": {\"colorbar\": {\"outlinewidth\": 0, \"ticks\": \"\"}}, \"type\": \"scatterpolargl\"}], \"scatterternary\": [{\"marker\": {\"colorbar\": {\"outlinewidth\": 0, \"ticks\": \"\"}}, \"type\": \"scatterternary\"}], \"surface\": [{\"colorbar\": {\"outlinewidth\": 0, \"ticks\": \"\"}, \"colorscale\": [[0.0, \"#0d0887\"], [0.1111111111111111, \"#46039f\"], [0.2222222222222222, \"#7201a8\"], [0.3333333333333333, \"#9c179e\"], [0.4444444444444444, \"#bd3786\"], [0.5555555555555556, \"#d8576b\"], [0.6666666666666666, \"#ed7953\"], [0.7777777777777778, \"#fb9f3a\"], [0.8888888888888888, \"#fdca26\"], [1.0, \"#f0f921\"]], \"type\": \"surface\"}], \"table\": [{\"cells\": {\"fill\": {\"color\": \"#EBF0F8\"}, \"line\": {\"color\": \"white\"}}, \"header\": {\"fill\": {\"color\": \"#C8D4E3\"}, \"line\": {\"color\": \"white\"}}, \"type\": \"table\"}]}, \"layout\": {\"annotationdefaults\": {\"arrowcolor\": \"#2a3f5f\", \"arrowhead\": 0, \"arrowwidth\": 1}, \"coloraxis\": {\"colorbar\": {\"outlinewidth\": 0, \"ticks\": \"\"}}, \"colorscale\": {\"diverging\": [[0, \"#8e0152\"], [0.1, \"#c51b7d\"], [0.2, \"#de77ae\"], [0.3, \"#f1b6da\"], [0.4, \"#fde0ef\"], [0.5, \"#f7f7f7\"], [0.6, \"#e6f5d0\"], [0.7, \"#b8e186\"], [0.8, \"#7fbc41\"], [0.9, \"#4d9221\"], [1, \"#276419\"]], \"sequential\": [[0.0, \"#0d0887\"], [0.1111111111111111, \"#46039f\"], [0.2222222222222222, \"#7201a8\"], [0.3333333333333333, \"#9c179e\"], [0.4444444444444444, \"#bd3786\"], [0.5555555555555556, \"#d8576b\"], [0.6666666666666666, \"#ed7953\"], [0.7777777777777778, \"#fb9f3a\"], [0.8888888888888888, \"#fdca26\"], [1.0, \"#f0f921\"]], \"sequentialminus\": [[0.0, \"#0d0887\"], [0.1111111111111111, \"#46039f\"], [0.2222222222222222, \"#7201a8\"], [0.3333333333333333, \"#9c179e\"], [0.4444444444444444, \"#bd3786\"], [0.5555555555555556, \"#d8576b\"], [0.6666666666666666, \"#ed7953\"], [0.7777777777777778, \"#fb9f3a\"], [0.8888888888888888, \"#fdca26\"], [1.0, \"#f0f921\"]]}, \"colorway\": [\"#636efa\", \"#EF553B\", \"#00cc96\", \"#ab63fa\", \"#FFA15A\", \"#19d3f3\", \"#FF6692\", \"#B6E880\", \"#FF97FF\", \"#FECB52\"], \"font\": {\"color\": \"#2a3f5f\"}, \"geo\": {\"bgcolor\": \"white\", \"lakecolor\": \"white\", \"landcolor\": \"#E5ECF6\", \"showlakes\": true, \"showland\": true, \"subunitcolor\": \"white\"}, \"hoverlabel\": {\"align\": \"left\"}, \"hovermode\": \"closest\", \"mapbox\": {\"style\": \"light\"}, \"paper_bgcolor\": \"white\", \"plot_bgcolor\": \"#E5ECF6\", \"polar\": {\"angularaxis\": {\"gridcolor\": \"white\", \"linecolor\": \"white\", \"ticks\": \"\"}, \"bgcolor\": \"#E5ECF6\", \"radialaxis\": {\"gridcolor\": \"white\", \"linecolor\": \"white\", \"ticks\": \"\"}}, \"scene\": {\"xaxis\": {\"backgroundcolor\": \"#E5ECF6\", \"gridcolor\": \"white\", \"gridwidth\": 2, \"linecolor\": \"white\", \"showbackground\": true, \"ticks\": \"\", \"zerolinecolor\": \"white\"}, \"yaxis\": {\"backgroundcolor\": \"#E5ECF6\", \"gridcolor\": \"white\", \"gridwidth\": 2, \"linecolor\": \"white\", \"showbackground\": true, \"ticks\": \"\", \"zerolinecolor\": \"white\"}, \"zaxis\": {\"backgroundcolor\": \"#E5ECF6\", \"gridcolor\": \"white\", \"gridwidth\": 2, \"linecolor\": \"white\", \"showbackground\": true, \"ticks\": \"\", \"zerolinecolor\": \"white\"}}, \"shapedefaults\": {\"line\": {\"color\": \"#2a3f5f\"}}, \"ternary\": {\"aaxis\": {\"gridcolor\": \"white\", \"linecolor\": \"white\", \"ticks\": \"\"}, \"baxis\": {\"gridcolor\": \"white\", \"linecolor\": \"white\", \"ticks\": \"\"}, \"bgcolor\": \"#E5ECF6\", \"caxis\": {\"gridcolor\": \"white\", \"linecolor\": \"white\", \"ticks\": \"\"}}, \"title\": {\"x\": 0.05}, \"xaxis\": {\"automargin\": true, \"gridcolor\": \"white\", \"linecolor\": \"white\", \"ticks\": \"\", \"title\": {\"standoff\": 15}, \"zerolinecolor\": \"white\", \"zerolinewidth\": 2}, \"yaxis\": {\"automargin\": true, \"gridcolor\": \"white\", \"linecolor\": \"white\", \"ticks\": \"\", \"title\": {\"standoff\": 15}, \"zerolinecolor\": \"white\", \"zerolinewidth\": 2}}}, \"title\": {\"text\": \"SARIMAX Confirmed Cases Prediction Vs Actual Values\"}, \"width\": 1200, \"xaxis\": {\"title\": {\"text\": \"Time in Date\"}}, \"yaxis\": {\"title\": {\"text\": \"Values\"}}},\n",
              "                        {\"responsive\": true}\n",
              "                    ).then(function(){\n",
              "                            \n",
              "var gd = document.getElementById('244c8633-aa2b-4c1b-98e7-9936a256829b');\n",
              "var x = new MutationObserver(function (mutations, observer) {{\n",
              "        var display = window.getComputedStyle(gd).display;\n",
              "        if (!display || display === 'none') {{\n",
              "            console.log([gd, 'removed!']);\n",
              "            Plotly.purge(gd);\n",
              "            observer.disconnect();\n",
              "        }}\n",
              "}});\n",
              "\n",
              "// Listen for the removal of the full notebook cells\n",
              "var notebookContainer = gd.closest('#notebook-container');\n",
              "if (notebookContainer) {{\n",
              "    x.observe(notebookContainer, {childList: true});\n",
              "}}\n",
              "\n",
              "// Listen for the clearing of the current output cell\n",
              "var outputEl = gd.closest('.output');\n",
              "if (outputEl) {{\n",
              "    x.observe(outputEl, {childList: true});\n",
              "}}\n",
              "\n",
              "                        })\n",
              "                };\n",
              "                \n",
              "            </script>\n",
              "        </div>\n",
              "</body>\n",
              "</html>"
            ]
          },
          "metadata": {
            "tags": []
          }
        }
      ]
    },
    {
      "cell_type": "code",
      "metadata": {
        "id": "DmUPJmEFH1Nd",
        "colab": {
          "base_uri": "https://localhost:8080/",
          "height": 119
        },
        "outputId": "61d1545f-7add-4c4f-cbf9-309392da4041"
      },
      "source": [
        "forecast_1= results.forecast(steps=5)\n",
        "days = range(len(X)+1,len(X)+6)\n",
        "pred_df = pd.DataFrame()\n",
        "pred_df[\"Predictions\"] = forecast_1\n",
        "pred_df[\"Days\"] = days\n",
        "print(pred_df)"
      ],
      "execution_count": null,
      "outputs": [
        {
          "output_type": "stream",
          "text": [
            "    Predictions  Days\n",
            "0  61784.260278   125\n",
            "1  66063.083571   126\n",
            "2  72633.929040   127\n",
            "3  79488.851522   128\n",
            "4  84245.471959   129\n"
          ],
          "name": "stdout"
        }
      ]
    },
    {
      "cell_type": "code",
      "metadata": {
        "id": "SIJRcuwpH1Nh",
        "colab": {
          "base_uri": "https://localhost:8080/",
          "height": 306
        },
        "outputId": "cd91387a-10f8-4c2e-cda6-ad917096eba2"
      },
      "source": [
        "final_df = pd.DataFrame()\n",
        "final_df[\"dates\"] = dates\n",
        "final_df[\"Prediction\"] = preds\n",
        "final_df[\"Actual Data\"] = y\n",
        "final_df[\"Error\"] = np.absolute(preds-y)\n",
        "print(final_df)\n",
        "final_df.to_csv(\"Infection_Predictions.csv\",index=False)\n",
        "error = int((np.absolute(preds[54:])-y[54:]).mean())\n",
        "print(\"\\nMean Error cases: \",error)\n",
        "print(\"Error Percentage: \",error/y[54:].mean()*100)"
      ],
      "execution_count": null,
      "outputs": [
        {
          "output_type": "stream",
          "text": [
            "         dates    Prediction  Actual Data        Error\n",
            "0    2020-1-22   2771.807649            0  2771.807649\n",
            "1    2020-1-23   2014.657934            0  2014.657934\n",
            "2    2020-1-24   1990.977505            0  1990.977505\n",
            "3    2020-1-25   2098.517045            0  2098.517045\n",
            "4    2020-1-26   2015.629979            0  2015.629979\n",
            "..         ...           ...          ...          ...\n",
            "119  2020-5-20  45880.016450        45422   458.016450\n",
            "120  2020-5-21  49127.514716        48553   574.514716\n",
            "121  2020-5-22  52362.533540        51824   538.533540\n",
            "122  2020-5-23  54794.373230        54385   409.373230\n",
            "123  2020-5-24  57970.826093        57692   278.826093\n",
            "\n",
            "[124 rows x 4 columns]\n",
            "\n",
            "Mean Error cases:  289\n",
            "Error Percentage:  2.598733904035681\n"
          ],
          "name": "stdout"
        }
      ]
    },
    {
      "cell_type": "markdown",
      "metadata": {
        "id": "3UJ0quR6H1Nj"
      },
      "source": [
        "Therefore we are getting a mean error of 228 cases in our predictions distributed in the last 46 days"
      ]
    }
  ]
}